{
 "cells": [
  {
   "cell_type": "code",
   "execution_count": 1,
   "id": "2b98e964",
   "metadata": {},
   "outputs": [],
   "source": [
    "import utils\n",
    "import numpy as np\n",
    "import matplotlib.pyplot as plt\n",
    "import sys"
   ]
  },
  {
   "cell_type": "code",
   "execution_count": 2,
   "id": "bedeee3a",
   "metadata": {},
   "outputs": [],
   "source": [
    "def get_valid_neighbors(row, col, H, W, segmented):\n",
    "        valid_growth = []\n",
    "        # North\n",
    "        if (row > 0) and (not segmented[row - 1, col]):\n",
    "            valid_growth.append([row - 1, col])\n",
    "        # East\n",
    "        if (col < W-1) and (not segmented[row, col + 1]):\n",
    "            valid_growth.append([row, col + 1])\n",
    "        # South\n",
    "        if (row < H-1) and (not segmented[row + 1, col]):\n",
    "            valid_growth.append([row + 1, col])\n",
    "        # West\n",
    "        if (col > 0) and (not segmented[row, col - 1]):\n",
    "            valid_growth.append([row, col - 1])\n",
    "            \n",
    "        # North-East\n",
    "        if (row > 0 and col < W-1) and (not segmented[row - 1, col + 1]):\n",
    "            valid_growth.append([row - 1, col + 1])\n",
    "        # South-East\n",
    "        if (row < H-1 and col < W-1) and (not segmented[row + 1, col + 1]):\n",
    "            valid_growth.append([row + 1, col + 1])\n",
    "        # South-West\n",
    "        if (row < H-1 and col > 0) and (not segmented[row + 1, col - 1]):\n",
    "            valid_growth.append([row + 1, col - 1])     \n",
    "        # North-West\n",
    "        if (row > 0 and col > 0) and (not segmented[row - 1, col - 1]):\n",
    "            valid_growth.append([row - 1, col - 1])\n",
    "                                \n",
    "        return valid_growth"
   ]
  },
  {
   "cell_type": "code",
   "execution_count": 3,
   "id": "1a1f690c",
   "metadata": {},
   "outputs": [],
   "source": [
    "def itterativ_growing(seed, segmented, T, im):\n",
    "    inital_value = im[seed[0], seed[1]]\n",
    "    checked_candidates = np.zeros_like(im).astype(bool)\n",
    "    H, W = im.shape\n",
    "    valid_growth = get_valid_neighbors(seed[0], seed[1], H, W, segmented)\n",
    "    while len(valid_growth) > 0:\n",
    "        next_valid_growth = []\n",
    "        for row, col in valid_growth:\n",
    "            # mean = np.mean(im[segmented])\n",
    "            mean = inital_value\n",
    "            if np.absolute(im[row, col] - mean) < T:\n",
    "                segmented[row, col] = True\n",
    "                next_valid_growth.extend(get_valid_neighbors(row, col, H, W, segmented))\n",
    "        set_lst = set(tuple(element) for element in next_valid_growth)\n",
    "        valid_growth = [list(t) for t in set(tuple(element) for element in set_lst)]\n",
    "    return segmented"
   ]
  },
  {
   "cell_type": "code",
   "execution_count": 4,
   "id": "3b20392d",
   "metadata": {},
   "outputs": [],
   "source": [
    "def region_growing(im: np.ndarray, seed_points: list, T: int) -> np.ndarray:\n",
    "    \"\"\"\n",
    "        A region growing algorithm that segments an image into 1 or 0 (True or False).\n",
    "        Finds candidate pixels with a Moore-neighborhood (8-connectedness). \n",
    "        Uses pixel intensity thresholding with the threshold T as the homogeneity criteria.\n",
    "        The function takes in a grayscale image and outputs a boolean image\n",
    "\n",
    "        args:\n",
    "            im: np.ndarray of shape (H, W) in the range [0, 255] (dtype=np.uint8)\n",
    "            seed_points: list of list containing seed points (row, col). Ex:\n",
    "                [[row1, col1], [row2, col2], ...]\n",
    "            T: integer value defining the threshold to used for the homogeneity criteria.\n",
    "        return:\n",
    "            (np.ndarray) of shape (H, W). dtype=np.bool\n",
    "    \"\"\"\n",
    "    ### START YOUR CODE HERE ### (You can change anything inside this block)\n",
    "    # You can also define other helper functions\n",
    "    total_segmented = np.zeros_like(im).astype(bool)\n",
    "    im = im.astype(float)\n",
    "    H, W = im.shape\n",
    "    for row, col in seed_points:\n",
    "        segmented = np.zeros_like(im).astype(bool)\n",
    "        segmented[row, col] = True\n",
    "        segmented = itterativ_growing([row, col], segmented, T, im)\n",
    "        total_segmented = total_segmented | segmented\n",
    "    return total_segmented\n",
    "    ### END YOUR CODE HERE ###"
   ]
  },
  {
   "cell_type": "code",
   "execution_count": 5,
   "id": "6a43f84e",
   "metadata": {},
   "outputs": [
    {
     "name": "stdout",
     "output_type": "stream",
     "text": [
      "Reading image: images\\defective-weld.png\n",
      "Next Seed\n",
      "255.0\n",
      "Next Seed\n",
      "255.0\n",
      "Next Seed\n",
      "255.0\n",
      "Next Seed\n",
      "255.0\n",
      "Saving image to: image_processed\\defective-weld-segmented.png\n"
     ]
    },
    {
     "name": "stderr",
     "output_type": "stream",
     "text": [
      "C:\\Studie\\NTNU\\Visuell Databehandling\\IP\\TDT4195-StarterCode\\assignment3\\utils.py:55: UserWarning: image_processed\\defective-weld-segmented.png is a low contrast image\n",
      "  skimage.io.imsave(impath, im)\n"
     ]
    },
    {
     "data": {
      "image/png": "[encoded data removed]",
      "text/plain": [
       "<Figure size 432x288 with 1 Axes>"
      ]
     },
     "metadata": {
      "needs_background": "light"
     },
     "output_type": "display_data"
    }
   ],
   "source": [
    "if __name__ == \"__main__\":\n",
    "    # DO NOT CHANGE\n",
    "    im = utils.read_image(\"defective-weld.png\")\n",
    "\n",
    "    seed_points = [ # (row, column)\n",
    "        [254, 138], # Seed point 1\n",
    "        [253, 296], # Seed point 2\n",
    "        [233, 436], # Seed point 3\n",
    "        [232, 417], # Seed point 4\n",
    "    ]\n",
    "    intensity_threshold = 50\n",
    "    segmented_image = region_growing(im, seed_points, intensity_threshold)\n",
    "\n",
    "    assert im.shape == segmented_image.shape, \"Expected image shape ({}) to be same as thresholded image shape ({})\".format(\n",
    "        im.shape, segmented_image.shape)\n",
    "    assert segmented_image.dtype == np.bool, \"Expected thresholded image dtype to be np.bool. Was: {}\".format(\n",
    "            segmented_image.dtype)\n",
    "\n",
    "    segmented_image = utils.to_uint8(segmented_image)\n",
    "    utils.save_im(\"defective-weld-segmented.png\", segmented_image)\n",
    "    \n",
    "    \n",
    "    plt.imshow(segmented_image)"
   ]
  },
  {
   "cell_type": "code",
   "execution_count": null,
   "id": "5b1a1c62",
   "metadata": {},
   "outputs": [],
   "source": []
  }
 ],
 "metadata": {
  "kernelspec": {
   "display_name": "Python 3 (ipykernel)",
   "language": "python",
   "name": "python3"
  },
  "language_info": {
   "codemirror_mode": {
    "name": "ipython",
    "version": 3
   },
   "file_extension": ".py",
   "mimetype": "text/x-python",
   "name": "python",
   "nbconvert_exporter": "python",
   "pygments_lexer": "ipython3",
   "version": "3.8.0"
  }
 },
 "nbformat": 4,
 "nbformat_minor": 5
}
