{
 "cells": [
  {
   "cell_type": "code",
   "execution_count": null,
   "id": "d8643de0",
   "metadata": {},
   "outputs": [],
   "source": []
  },
  {
   "cell_type": "code",
   "execution_count": 1,
   "id": "f72827b8",
   "metadata": {},
   "outputs": [],
   "source": [
    "import torch\n",
    "import torch.nn as nn\n",
    "import matplotlib.pyplot as plt\n",
    "import tqdm\n",
    "import numpy as np\n",
    "import utils\n",
    "import dataloaders\n",
    "import torchvision\n",
    "from trainer import Trainer\n",
    "torch.random.manual_seed(0)\n",
    "np.random.seed(0)"
   ]
  },
  {
   "cell_type": "markdown",
   "id": "74c3e257",
   "metadata": {},
   "source": [
    "### Dataset"
   ]
  },
  {
   "cell_type": "code",
   "execution_count": 2,
   "id": "a794c517",
   "metadata": {},
   "outputs": [
    {
     "name": "stdout",
     "output_type": "stream",
     "text": [
      "Downloading http://yann.lecun.com/exdb/mnist/train-images-idx3-ubyte.gz\n",
      "Downloading http://yann.lecun.com/exdb/mnist/train-images-idx3-ubyte.gz to data/MNIST\\raw\\train-images-idx3-ubyte.gz\n"
     ]
    },
    {
     "data": {
      "application/vnd.jupyter.widget-view+json": {
       "model_id": "ad58beada2fc453190bb74207146f438",
       "version_major": 2,
       "version_minor": 0
      },
      "text/plain": [
       "  0%|          | 0/9912422 [00:00<?, ?it/s]"
      ]
     },
     "metadata": {},
     "output_type": "display_data"
    },
    {
     "name": "stdout",
     "output_type": "stream",
     "text": [
      "Extracting data/MNIST\\raw\\train-images-idx3-ubyte.gz to data/MNIST\\raw\n",
      "\n",
      "Downloading http://yann.lecun.com/exdb/mnist/train-labels-idx1-ubyte.gz\n",
      "Downloading http://yann.lecun.com/exdb/mnist/train-labels-idx1-ubyte.gz to data/MNIST\\raw\\train-labels-idx1-ubyte.gz\n"
     ]
    },
    {
     "data": {
      "application/vnd.jupyter.widget-view+json": {
       "model_id": "c81af1e1c9cd45d296d06f9648947150",
       "version_major": 2,
       "version_minor": 0
      },
      "text/plain": [
       "  0%|          | 0/28881 [00:00<?, ?it/s]"
      ]
     },
     "metadata": {},
     "output_type": "display_data"
    },
    {
     "name": "stdout",
     "output_type": "stream",
     "text": [
      "Extracting data/MNIST\\raw\\train-labels-idx1-ubyte.gz to data/MNIST\\raw\n",
      "\n",
      "Downloading http://yann.lecun.com/exdb/mnist/t10k-images-idx3-ubyte.gz\n",
      "Downloading http://yann.lecun.com/exdb/mnist/t10k-images-idx3-ubyte.gz to data/MNIST\\raw\\t10k-images-idx3-ubyte.gz\n"
     ]
    },
    {
     "data": {
      "application/vnd.jupyter.widget-view+json": {
       "model_id": "2ba45a4c64604a689d196c9f9d28e4c9",
       "version_major": 2,
       "version_minor": 0
      },
      "text/plain": [
       "  0%|          | 0/1648877 [00:00<?, ?it/s]"
      ]
     },
     "metadata": {},
     "output_type": "display_data"
    },
    {
     "name": "stdout",
     "output_type": "stream",
     "text": [
      "Extracting data/MNIST\\raw\\t10k-images-idx3-ubyte.gz to data/MNIST\\raw\n",
      "\n",
      "Downloading http://yann.lecun.com/exdb/mnist/t10k-labels-idx1-ubyte.gz\n",
      "Downloading http://yann.lecun.com/exdb/mnist/t10k-labels-idx1-ubyte.gz to data/MNIST\\raw\\t10k-labels-idx1-ubyte.gz\n"
     ]
    },
    {
     "data": {
      "application/vnd.jupyter.widget-view+json": {
       "model_id": "b36e17783097415d99124aa4e186c2bb",
       "version_major": 2,
       "version_minor": 0
      },
      "text/plain": [
       "  0%|          | 0/4542 [00:00<?, ?it/s]"
      ]
     },
     "metadata": {},
     "output_type": "display_data"
    },
    {
     "name": "stdout",
     "output_type": "stream",
     "text": [
      "Extracting data/MNIST\\raw\\t10k-labels-idx1-ubyte.gz to data/MNIST\\raw\n",
      "\n",
      "The tensor containing the images has shape: torch.Size([64, 1, 28, 28]) (batch size, number of color channels, height, width)\n",
      "\tThe maximum value in the image is 1.0, minimum: 0.0\n"
     ]
    }
   ],
   "source": [
    "# Load the dataset and print some stats\n",
    "batch_size = 64\n",
    "\n",
    "image_transform = torchvision.transforms.Compose([\n",
    "    torchvision.transforms.ToTensor(),\n",
    "])\n",
    "\n",
    "dataloader_train, dataloader_test = dataloaders.load_dataset(batch_size, image_transform)\n",
    "example_images, _ = next(iter(dataloader_train))\n",
    "print(f\"The tensor containing the images has shape: {example_images.shape} (batch size, number of color channels, height, width)\",\n",
    "      f\"The maximum value in the image is {example_images.max()}, minimum: {example_images.min()}\", sep=\"\\n\\t\")"
   ]
  },
  {
   "cell_type": "code",
   "execution_count": 3,
   "id": "6593463c",
   "metadata": {},
   "outputs": [],
   "source": [
    "def create_model():\n",
    "    \"\"\"\n",
    "        Initializes the mode. Edit the code below if you would like to change the model.\n",
    "    \"\"\"\n",
    "    model = nn.Sequential(\n",
    "        nn.Flatten(), # Flattens the image from shape (batch_size, C, Height, width) to (batch_size, C*height*width)\n",
    "        nn.Linear(28*28*1, 10)\n",
    "        # No need to include softmax, as this is already combined in the loss function\n",
    "    )\n",
    "    # Transfer model to GPU memory if a GPU is available\n",
    "    model = utils.to_cuda(model)\n",
    "    return model\n",
    "\n",
    "\n",
    "model = create_model()"
   ]
  },
  {
   "cell_type": "code",
   "execution_count": null,
   "id": "8b82b97e",
   "metadata": {},
   "outputs": [],
   "source": [
    "# Test if the model is able to do a single forward pass\n",
    "example_images = utils.to_cuda(example_images)\n",
    "output = model(example_images)\n",
    "print(\"Output shape:\", output.shape)\n",
    "expected_shape = (batch_size, 10) # 10 since mnist has 10 different classes\n",
    "assert output.shape == expected_shape,    f\"Expected shape: {expected_shape}, but got: {output.shape}\""
   ]
  },
  {
   "cell_type": "markdown",
   "id": "e5990b02",
   "metadata": {},
   "source": [
    "### Hyperparameters & Loss function"
   ]
  },
  {
   "cell_type": "code",
   "execution_count": null,
   "id": "7b232de5",
   "metadata": {},
   "outputs": [],
   "source": [
    "# Hyperparameters\n",
    "learning_rate = .0192\n",
    "num_epochs = 5\n",
    "\n",
    "\n",
    "# Use CrossEntropyLoss for multi-class classification\n",
    "loss_function = torch.nn.CrossEntropyLoss()\n",
    "\n",
    "# Define optimizer (Stochastic Gradient Descent)\n",
    "optimizer = torch.optim.SGD(model.parameters(),\n",
    "                            lr=learning_rate)"
   ]
  },
  {
   "cell_type": "markdown",
   "id": "6501d2bf",
   "metadata": {},
   "source": [
    "### Train model"
   ]
  },
  {
   "cell_type": "code",
   "execution_count": null,
   "id": "5c90bcef",
   "metadata": {},
   "outputs": [],
   "source": [
    "trainer = Trainer(\n",
    "  model=model,\n",
    "  dataloader_train=dataloader_train,\n",
    "  dataloader_test=dataloader_test,\n",
    "  batch_size=batch_size,\n",
    "  loss_function=loss_function,\n",
    "  optimizer=optimizer\n",
    ")\n",
    "train_loss_dict, test_loss_dict = trainer.train(num_epochs)"
   ]
  },
  {
   "cell_type": "code",
   "execution_count": null,
   "id": "e79c8a76",
   "metadata": {},
   "outputs": [],
   "source": [
    "# We can now plot the training loss with our utility script\n",
    "\n",
    "# Plot loss\n",
    "utils.plot_loss(train_loss_dict, label=\"Train Loss\")\n",
    "utils.plot_loss(test_loss_dict, label=\"Test Loss\")\n",
    "# Limit the y-axis of the plot (The range should not be increased!)\n",
    "plt.ylim([0, 1])\n",
    "plt.legend()\n",
    "plt.xlabel(\"Global Training Step\")\n",
    "plt.ylabel(\"Cross Entropy Loss\")\n",
    "plt.savefig(\"image_solutions/task_4a.png\")\n",
    "\n",
    "plt.show()\n",
    "\n",
    "torch.save(model.state_dict(), \"saved_model.torch\")\n",
    "final_loss, final_acc = utils.compute_loss_and_accuracy(\n",
    "    dataloader_test, model, loss_function)\n",
    "print(f\"Final Test loss: {final_loss}. Final Test accuracy: {final_acc}\")"
   ]
  },
  {
   "cell_type": "markdown",
   "id": "6f80447b",
   "metadata": {},
   "source": [
    "## Plotting example"
   ]
  },
  {
   "cell_type": "markdown",
   "id": "eca90161",
   "metadata": {},
   "source": [
    "### Task A"
   ]
  },
  {
   "cell_type": "code",
   "execution_count": null,
   "id": "627c09e9",
   "metadata": {},
   "outputs": [],
   "source": [
    "torch.random.manual_seed(0)\n",
    "np.random.seed(0)\n",
    "\n",
    "\n",
    "batch_size = 64\n",
    "learning_rate = .0192\n",
    "num_epochs = 5\n",
    "\n",
    "# Normalize the data [0, 1]\n",
    "dataloader_train, dataloader_test = dataloaders.load_dataset(batch_size, image_transform)\n",
    "model = create_model()\n",
    "\n",
    "# Redefine optimizer, as we have a new model.\n",
    "optimizer = torch.optim.SGD(model.parameters(),\n",
    "                            lr=learning_rate)\n",
    "trainer = Trainer(\n",
    "  model=model,\n",
    "  dataloader_train=dataloader_train,\n",
    "  dataloader_test=dataloader_test,\n",
    "  batch_size=batch_size,\n",
    "  loss_function=loss_function,\n",
    "  optimizer=optimizer\n",
    ")\n",
    "train_loss_dict, test_loss_dict = trainer.train(num_epochs)\n",
    "\n",
    "final_loss, final_acc = utils.compute_loss_and_accuracy(\n",
    "    dataloader_test, model, loss_function)\n",
    "\n",
    "# Normalize the data [-1, 1]\n",
    "image_transform = torchvision.transforms.Compose([\n",
    "    torchvision.transforms.ToTensor(),\n",
    "    torchvision.transforms.Normalize((0.5), (0.5)),\n",
    "])\n",
    "\n",
    "dataloader_train, dataloader_test = dataloaders.load_dataset(batch_size, image_transform)\n",
    "\n",
    "trainer = Trainer(\n",
    "  model=model,\n",
    "  dataloader_train=dataloader_train,\n",
    "  dataloader_test=dataloader_test,\n",
    "  batch_size=batch_size,\n",
    "  loss_function=loss_function,\n",
    "  optimizer=optimizer\n",
    ")\n",
    "\n",
    "train_loss_dict_normalized, test_loss_dict_normalized = trainer.train(num_epochs)\n",
    "\n",
    "final_loss_normalized, final_acc_normalized = utils.compute_loss_and_accuracy(\n",
    "    dataloader_test, model, loss_function)\n",
    "\n"
   ]
  },
  {
   "cell_type": "code",
   "execution_count": null,
   "id": "ec061407",
   "metadata": {},
   "outputs": [],
   "source": [
    "# We can now plot the two models against eachother\n",
    "\n",
    "# Plot loss\n",
    "utils.plot_loss(train_loss_dict, label=\"Train Loss - Original model\")\n",
    "utils.plot_loss(test_loss_dict, label=\"Test Loss - Original model\")\n",
    "utils.plot_loss(train_loss_dict_normalized, label=\"Train Loss - Normalized data\")\n",
    "utils.plot_loss(test_loss_dict_normalized, label=\"Test Loss - Normalized data\")\n",
    "# Limit the y-axis of the plot (The range should not be increased!)\n",
    "plt.ylim([0, 1])\n",
    "plt.legend()\n",
    "plt.xlabel(\"Global Training Step\")\n",
    "plt.ylabel(\"Cross Entropy Loss\")\n",
    "plt.savefig(\"image_solutions/task_4a.png\")\n",
    "\n",
    "plt.show()\n",
    "\n",
    "torch.save(model.state_dict(), \"saved_model.torch\")\n",
    "\n",
    "print(f\"Final Orignal Test loss: {final_loss}. Final Original Test accuracy: {final_acc}\")\n",
    "print(f\"Final Normalized Test loss: {final_loss_normalized}. Final Normalized Test accuracy: {final_acc_normalized}\")"
   ]
  },
  {
   "cell_type": "markdown",
   "id": "e6f13451",
   "metadata": {},
   "source": [
    "### Task B"
   ]
  },
  {
   "cell_type": "code",
   "execution_count": null,
   "id": "271ad4c2",
   "metadata": {},
   "outputs": [],
   "source": [
    "weights = list(model.children())[1].weight.cpu().data\n",
    "fig = plt.figure(num=None, figsize=(26, 12), dpi=80, facecolor='w', edgecolor='k')\n",
    "for num_class, num_weights in enumerate(weights):\n",
    "    im = np.reshape(num_weights, (28, 28))\n",
    "    ax = fig.add_subplot(2, 5, num_class + 1)\n",
    "    ax.title.set_text(f'num_class: {num_class}')\n",
    "    plt.imshow(im, cmap=\"gray\")"
   ]
  },
  {
   "cell_type": "markdown",
   "id": "1b25dba2",
   "metadata": {},
   "source": [
    "### Task C"
   ]
  },
  {
   "cell_type": "code",
   "execution_count": null,
   "id": "4662bba0",
   "metadata": {},
   "outputs": [],
   "source": [
    "torch.random.manual_seed(0)\n",
    "np.random.seed(0)\n",
    "\n",
    "batch_size = 64\n",
    "learning_rate = 1.0\n",
    "num_epochs = 5\n",
    "\n",
    "# Redefine optimizer, as we have a new model.\n",
    "optimizer = torch.optim.SGD(model.parameters(),\n",
    "                            lr=learning_rate)\n",
    "\n",
    "# Normalize the data [-1, 1]\n",
    "image_transform = torchvision.transforms.Compose([\n",
    "    torchvision.transforms.ToTensor(),\n",
    "    torchvision.transforms.Normalize((0.5), (0.5)),\n",
    "])\n",
    "\n",
    "dataloader_train, dataloader_test = dataloaders.load_dataset(batch_size, image_transform)\n",
    "\n",
    "trainer = Trainer(\n",
    "  model=model,\n",
    "  dataloader_train=dataloader_train,\n",
    "  dataloader_test=dataloader_test,\n",
    "  batch_size=batch_size,\n",
    "  loss_function=loss_function,\n",
    "  optimizer=optimizer\n",
    ")\n",
    "\n",
    "train_loss_dict_lr, test_loss_dict_lr = trainer.train(num_epochs)\n",
    "\n",
    "final_loss_lr, final_acc_lr = utils.compute_loss_and_accuracy(\n",
    "    dataloader_test, model, loss_function)\n",
    "\n"
   ]
  },
  {
   "cell_type": "code",
   "execution_count": null,
   "id": "db8c887c",
   "metadata": {},
   "outputs": [],
   "source": [
    "average_loss = round(sum(test_loss_dict_lr.values())/len(test_loss_dict_lr.keys()), 3)\n",
    "\n",
    "# Plot loss\n",
    "utils.plot_loss(train_loss_dict_lr, label=\"Train Loss - Learning rate = 1.0\")\n",
    "utils.plot_loss(test_loss_dict_lr, label=\"Test Loss - Learning rate = 1.0\")\n",
    "# Limit the y-axis of the plot (The range should not be increased!)\n",
    "plt.ylim([0, 19])\n",
    "plt.legend()\n",
    "plt.xlabel(\"Global Training Step\")\n",
    "plt.ylabel(\"Cross Entropy Loss\")\n",
    "plt.savefig(\"image_solutions/task_4a.png\")\n",
    "\n",
    "plt.show()\n",
    "\n",
    "torch.save(model.state_dict(), \"saved_model.torch\")\n",
    "\n",
    "print(f\"Final Test loss: {final_loss_lr}. Final Test accuracy: {final_acc_lr}. Average cross entropy loss on validation set: {average_loss}\")"
   ]
  },
  {
   "cell_type": "markdown",
   "id": "10724ba8",
   "metadata": {},
   "source": [
    "### Task D"
   ]
  },
  {
   "cell_type": "code",
   "execution_count": null,
   "id": "fcf26451",
   "metadata": {},
   "outputs": [],
   "source": [
    "def create_relu_model():\n",
    "    \"\"\"\n",
    "        Initializes the mode. Edit the code below if you would like to change the model.\n",
    "    \"\"\"\n",
    "    model = nn.Sequential(\n",
    "        nn.Flatten(), # Flattens the image from shape (batch_size, C, Height, width) to (batch_size, C*height*width)\n",
    "        nn.Linear(28*28*1, 64),\n",
    "        nn.ReLU(),\n",
    "        nn.Linear(64, 10),\n",
    "        # No need to include softmax, as this is already combined in the loss function\n",
    "    )\n",
    "    # Transfer model to GPU memory if a GPU is available\n",
    "    model = utils.to_cuda(model)\n",
    "    return model\n",
    "\n",
    "\n",
    "model = create_relu_model() "
   ]
  },
  {
   "cell_type": "code",
   "execution_count": null,
   "id": "a3325824",
   "metadata": {},
   "outputs": [],
   "source": [
    "torch.random.manual_seed(42)\n",
    "np.random.seed(42)\n",
    "\n",
    "batch_size = 64\n",
    "learning_rate = 0.0192\n",
    "num_epochs = 5\n",
    "\n",
    "# Redefine optimizer, as we have a new model.\n",
    "optimizer = torch.optim.SGD(model.parameters(),\n",
    "                            lr=learning_rate)\n",
    "\n",
    "# Normalize the data [-1, 1]\n",
    "image_transform = torchvision.transforms.Compose([\n",
    "    torchvision.transforms.ToTensor(),\n",
    "    torchvision.transforms.Normalize((0.5), (0.5)),\n",
    "])\n",
    "\n",
    "dataloader_train, dataloader_test = dataloaders.load_dataset(batch_size, image_transform)\n",
    "\n",
    "trainer = Trainer(\n",
    "  model=model,\n",
    "  dataloader_train=dataloader_train,\n",
    "  dataloader_test=dataloader_test,\n",
    "  batch_size=batch_size,\n",
    "  loss_function=loss_function,\n",
    "  optimizer=optimizer\n",
    ")\n",
    "\n",
    "train_loss_dict_relu, test_loss_dict_relu = trainer.train(num_epochs)\n",
    "\n",
    "final_loss_relu, final_acc_relu = utils.compute_loss_and_accuracy(\n",
    "    dataloader_test, model, loss_function)\n"
   ]
  },
  {
   "cell_type": "code",
   "execution_count": null,
   "id": "3872b79a",
   "metadata": {},
   "outputs": [],
   "source": [
    "# We can now plot the two models against eachother\n",
    "\n",
    "# Plot loss\n",
    "utils.plot_loss(train_loss_dict, label=\"Train Loss - Original model\")\n",
    "utils.plot_loss(test_loss_dict, label=\"Test Loss - Original model\")\n",
    "utils.plot_loss(train_loss_dict_relu, label=\"Train Loss - ReLU model\")\n",
    "utils.plot_loss(test_loss_dict_relu, label=\"Test Loss - ReLU model\")\n",
    "# Limit the y-axis of the plot (The range should not be increased!)\n",
    "plt.ylim([0, 3])\n",
    "plt.legend()\n",
    "plt.xlabel(\"Global Training Step\")\n",
    "plt.ylabel(\"Cross Entropy Loss\")\n",
    "plt.savefig(\"image_solutions/task_4a.png\")\n",
    "\n",
    "plt.show()\n",
    "\n",
    "torch.save(model.state_dict(), \"saved_model.torch\")\n",
    "\n",
    "print(f\"Final Orignal Test loss: {final_loss}. Final Original Test accuracy: {final_acc}\")\n",
    "print(f\"Final ReLU Test loss: {final_loss_relu}. Final ReLU Test accuracy: {final_acc_relu}\")"
   ]
  },
  {
   "cell_type": "code",
   "execution_count": null,
   "id": "60336372",
   "metadata": {},
   "outputs": [],
   "source": []
  }
 ],
 "metadata": {
  "kernelspec": {
   "display_name": "Python 3",
   "language": "python",
   "name": "python3"
  },
  "language_info": {
   "codemirror_mode": {
    "name": "ipython",
    "version": 3
   },
   "file_extension": ".py",
   "mimetype": "text/x-python",
   "name": "python",
   "nbconvert_exporter": "python",
   "pygments_lexer": "ipython3",
   "version": "3.6.10"
  }
 },
 "nbformat": 4,
 "nbformat_minor": 5
}
